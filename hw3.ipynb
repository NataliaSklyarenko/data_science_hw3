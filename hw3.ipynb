{
 "cells": [
  {
   "cell_type": "code",
   "execution_count": 3,
   "metadata": {},
   "outputs": [
    {
     "name": "stdout",
     "output_type": "stream",
     "text": [
      "Найкращі параметри (вектор w) за допомогою градієнтного спуску: [4766523.46205873  821199.26709864  695515.99623791  300296.28560637]\n",
      "Найкращі параметри (вектор w) за допомогою аналітичного рішення: [4766729.24770642  821214.14349519  695808.52272537  299983.57107963]\n",
      "   Gradient Descent  Analytical Solution\n",
      "0      4.766523e+06         4.766729e+06\n",
      "1      8.211993e+05         8.212141e+05\n",
      "2      6.955160e+05         6.958085e+05\n",
      "3      3.002963e+05         2.999836e+05\n"
     ]
    }
   ],
   "source": [
    "import numpy as np\n",
    "import pandas as pd\n",
    "\n",
    "def hypothesis(X, theta):\n",
    "\n",
    "    return np.dot(X, theta)\n",
    "def compute_loss(X, y, theta):\n",
    "    m = len(y)\n",
    "    return (1 / (2 * m)) * np.sum((hypothesis(X, theta) - y) ** 2)\n",
    "def gradient_descent_step(X, y, theta, learning_rate):\n",
    "    m = len(y)\n",
    "    gradients = (1 / m) * np.dot(X.T, hypothesis(X, theta) - y)\n",
    "    theta = theta - learning_rate * gradients\n",
    "    return theta\n",
    "\n",
    "\n",
    "data = pd.read_csv('housing.csv')\n",
    "X = data[['area', 'bathrooms', 'bedrooms']].values\n",
    "y = data['price'].values\n",
    "\n",
    "X = (X - X.mean(axis=0)) / X.std(axis=0)\n",
    "X = np.hstack((np.ones((X.shape[0], 1)), X))\n",
    "\n",
    "theta = np.zeros(X.shape[1])\n",
    "learning_rate = 0.01\n",
    "num_iterations = 1000\n",
    "\n",
    "for _ in range(num_iterations):\n",
    "    theta = gradient_descent_step(X, y, theta, learning_rate)\n",
    "\n",
    "print(\"Найкращі параметри (вектор w) за допомогою градієнтного спуску:\", theta)\n",
    "theta_analytical = np.linalg.inv(X.T @ X) @ X.T @ y\n",
    "print(\"Найкращі параметри (вектор w) за допомогою аналітичного рішення:\", theta_analytical)\n",
    "comparison = pd.DataFrame({\n",
    "    'Gradient Descent': theta,\n",
    "    'Analytical Solution': theta_analytical\n",
    "})\n",
    "print(comparison)\n"
   ]
  }
 ],
 "metadata": {
  "kernelspec": {
   "display_name": "Python 3",
   "language": "python",
   "name": "python3"
  },
  "language_info": {
   "codemirror_mode": {
    "name": "ipython",
    "version": 3
   },
   "file_extension": ".py",
   "mimetype": "text/x-python",
   "name": "python",
   "nbconvert_exporter": "python",
   "pygments_lexer": "ipython3",
   "version": "3.12.3"
  }
 },
 "nbformat": 4,
 "nbformat_minor": 2
}
